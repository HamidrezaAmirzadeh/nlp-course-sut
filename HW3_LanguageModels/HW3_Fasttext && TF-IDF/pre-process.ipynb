{
 "cells": [
  {
   "cell_type": "code",
   "execution_count": 2,
   "id": "8018b247",
   "metadata": {},
   "outputs": [],
   "source": [
    "import pandas as pd\n",
    "from hazm import *\n",
    "import re\n",
    "import numpy as np"
   ]
  },
  {
   "cell_type": "code",
   "execution_count": 3,
   "id": "39ef71a1",
   "metadata": {},
   "outputs": [],
   "source": [
    "Data = pd.read_csv('Instagram labeled comments.csv')"
   ]
  },
  {
   "cell_type": "code",
   "execution_count": 4,
   "id": "8a58059f",
   "metadata": {},
   "outputs": [],
   "source": [
    "X_train, Y_train = Data['comment'], Data['sentiment']"
   ]
  },
  {
   "cell_type": "code",
   "execution_count": 5,
   "id": "26ed48c4",
   "metadata": {},
   "outputs": [],
   "source": [
    "normalizer = Normalizer()"
   ]
  },
  {
   "cell_type": "code",
   "execution_count": 6,
   "id": "87e61ab3",
   "metadata": {},
   "outputs": [],
   "source": [
    "Y_train = np.array([Y_train[i] for i in range(len(X_train)) if not re.search(r'[a/z]|[A/Z]', X_train[i])])"
   ]
  },
  {
   "cell_type": "code",
   "execution_count": 7,
   "id": "91a0ea5a",
   "metadata": {},
   "outputs": [],
   "source": [
    "X_train = np.array([X_train[i] for i in range(len(X_train)) if not re.search(r'[a/z]|[A/Z]', X_train[i])])"
   ]
  },
  {
   "cell_type": "code",
   "execution_count": 8,
   "id": "5f3a9ba2",
   "metadata": {},
   "outputs": [],
   "source": [
    "emoji_pattern = re.compile(\"[\"\n",
    "        u\"\\U0001F600-\\U0001F64F\"  \n",
    "        u\"\\U0001F300-\\U0001F5FF\"  # symbols & pictographs\n",
    "        u\"\\U0001F680-\\U0001F6FF\"  # transport & map symbols\n",
    "        u\"\\U0001F1E0-\\U0001F1FF\"  # flags (iOS)\n",
    "        u\"\\U00002500-\\U00002BEF\"  # chinese char\n",
    "        u\"\\U00002702-\\U000027B0\"\n",
    "        u\"\\U00002702-\\U000027B0\"\n",
    "        u\"\\U000024C2-\\U0001F251\"\n",
    "        u\"\\U0001f926-\\U0001f937\"\n",
    "        u\"\\U00010000-\\U0010ffff\"\n",
    "        u\"\\u2640-\\u2642\" \n",
    "        u\"\\u2600-\\u2B55\"\n",
    "        u\"\\u200d\"\n",
    "        u\"\\u23cf\"\n",
    "        u\"\\u23e9\"\n",
    "        u\"\\u231a\"\n",
    "        u\"\\ufe0f\"  # dingbats\n",
    "        u\"\\u3030\"\n",
    "                      \"]+\", flags=re.UNICODE)\n",
    "\n",
    "X_train_nonemoji = [emoji_pattern.sub(r'', text) for text in X_train]"
   ]
  },
  {
   "cell_type": "code",
   "execution_count": 9,
   "id": "6dc28720",
   "metadata": {},
   "outputs": [
    {
     "data": {
      "text/plain": [
       "'آقای رشیدپور من تا هفته NUM۲ بچه\\u200cام پسر بود و لحظه به دنیا اومدنش دختر شد خداروشکررر . شما ببین این وروجک چجوری من و باباش و دکتر رو سر انگشتش چرخوند'"
      ]
     },
     "execution_count": 9,
     "metadata": {},
     "output_type": "execute_result"
    }
   ],
   "source": [
    "X_train_nonemoji[0]"
   ]
  },
  {
   "cell_type": "code",
   "execution_count": 10,
   "id": "dbedf20c",
   "metadata": {},
   "outputs": [],
   "source": [
    "X_train_nonemoji_normalized = [normalizer.normalize(i) for i in X_train_nonemoji]"
   ]
  },
  {
   "cell_type": "code",
   "execution_count": 11,
   "id": "53a48a32",
   "metadata": {},
   "outputs": [
    {
     "data": {
      "text/plain": [
       "'آقای رشیدپور من تا هفته NUM۲ بچه\\u200cام پسر بود و لحظه به دنیا اومدنش دختر شد خداروشکررر. شما ببین این وروجک چجوری من و باباش و دکتر رو سر انگشتش چرخوند'"
      ]
     },
     "execution_count": 11,
     "metadata": {},
     "output_type": "execute_result"
    }
   ],
   "source": [
    "X_train_nonemoji_normalized[0]"
   ]
  },
  {
   "cell_type": "code",
   "execution_count": 12,
   "id": "ad288893",
   "metadata": {},
   "outputs": [],
   "source": [
    "tagger = POSTagger(model='resources-0/postagger.model')"
   ]
  },
  {
   "cell_type": "code",
   "execution_count": 13,
   "id": "3475582f",
   "metadata": {},
   "outputs": [
    {
     "data": {
      "text/plain": [
       "['آقای رشیدپور من تا هفته NUM۲ بچه\\u200cام پسر بود و لحظه به دنیا اومدنش دختر شد خداروشکررر.',\n",
       " 'شما ببین این وروجک چجوری من و باباش و دکتر رو سر انگشتش چرخوند']"
      ]
     },
     "execution_count": 13,
     "metadata": {},
     "output_type": "execute_result"
    }
   ],
   "source": [
    "sent_tokenize(X_train_nonemoji_normalized[0])"
   ]
  },
  {
   "cell_type": "code",
   "execution_count": 14,
   "id": "f7149f1f",
   "metadata": {},
   "outputs": [],
   "source": [
    "final = np.hstack((np.array(X_train_nonemoji_normalized).reshape(8335,1),np.array(Y_train).reshape(8335,1)))"
   ]
  },
  {
   "cell_type": "code",
   "execution_count": 15,
   "id": "305ba4be",
   "metadata": {},
   "outputs": [],
   "source": [
    "Data_final = pd.DataFrame(final)"
   ]
  },
  {
   "cell_type": "code",
   "execution_count": 16,
   "id": "b9b0e49d",
   "metadata": {},
   "outputs": [],
   "source": [
    "Data_final.rename(columns = { 1 :'sentiment', 0 :'comment' }, inplace = True)"
   ]
  },
  {
   "cell_type": "code",
   "execution_count": 17,
   "id": "a1834294",
   "metadata": {},
   "outputs": [
    {
     "data": {
      "text/html": [
       "<div>\n",
       "<style scoped>\n",
       "    .dataframe tbody tr th:only-of-type {\n",
       "        vertical-align: middle;\n",
       "    }\n",
       "\n",
       "    .dataframe tbody tr th {\n",
       "        vertical-align: top;\n",
       "    }\n",
       "\n",
       "    .dataframe thead th {\n",
       "        text-align: right;\n",
       "    }\n",
       "</style>\n",
       "<table border=\"1\" class=\"dataframe\">\n",
       "  <thead>\n",
       "    <tr style=\"text-align: right;\">\n",
       "      <th></th>\n",
       "      <th>comment</th>\n",
       "      <th>sentiment</th>\n",
       "    </tr>\n",
       "  </thead>\n",
       "  <tbody>\n",
       "    <tr>\n",
       "      <th>0</th>\n",
       "      <td>آقای رشیدپور من تا هفته NUM۲ بچه‌ام پسر بود و ...</td>\n",
       "      <td>1</td>\n",
       "    </tr>\n",
       "    <tr>\n",
       "      <th>1</th>\n",
       "      <td>چقدر این دزد باحال بود</td>\n",
       "      <td>1</td>\n",
       "    </tr>\n",
       "    <tr>\n",
       "      <th>2</th>\n",
       "      <td>سلام اگر ممکنه از کلمه سی تی اسکن تو برنامتون ...</td>\n",
       "      <td>-1</td>\n",
       "    </tr>\n",
       "    <tr>\n",
       "      <th>3</th>\n",
       "      <td>شما پول اینترنتت و گوشیت رو هزینه بچت کن</td>\n",
       "      <td>0</td>\n",
       "    </tr>\n",
       "    <tr>\n",
       "      <th>4</th>\n",
       "      <td>آقای رشید پور به روستای ما بن گوشت یخ زده دادن...</td>\n",
       "      <td>-1</td>\n",
       "    </tr>\n",
       "    <tr>\n",
       "      <th>...</th>\n",
       "      <td>...</td>\n",
       "      <td>...</td>\n",
       "    </tr>\n",
       "    <tr>\n",
       "      <th>8330</th>\n",
       "      <td>این ضایعه را به ملت بزرگ ایران به ویژه خانواده...</td>\n",
       "      <td>-1</td>\n",
       "    </tr>\n",
       "    <tr>\n",
       "      <th>8331</th>\n",
       "      <td>شبیه افغانی هاس</td>\n",
       "      <td>0</td>\n",
       "    </tr>\n",
       "    <tr>\n",
       "      <th>8332</th>\n",
       "      <td>باسلام تکلیف کشتی که بانفتکش ما تصادف کرد چی ش...</td>\n",
       "      <td>0</td>\n",
       "    </tr>\n",
       "    <tr>\n",
       "      <th>8333</th>\n",
       "      <td>گالری اینترنتی فرشاد</td>\n",
       "      <td>0</td>\n",
       "    </tr>\n",
       "    <tr>\n",
       "      <th>8334</th>\n",
       "      <td>من میخواهم از اول مارکت انصراف بدهم، کد انصراف...</td>\n",
       "      <td>-1</td>\n",
       "    </tr>\n",
       "  </tbody>\n",
       "</table>\n",
       "<p>8204 rows × 2 columns</p>\n",
       "</div>"
      ],
      "text/plain": [
       "                                                comment sentiment\n",
       "0     آقای رشیدپور من تا هفته NUM۲ بچه‌ام پسر بود و ...         1\n",
       "1                               چقدر این دزد باحال بود          1\n",
       "2     سلام اگر ممکنه از کلمه سی تی اسکن تو برنامتون ...        -1\n",
       "3              شما پول اینترنتت و گوشیت رو هزینه بچت کن         0\n",
       "4     آقای رشید پور به روستای ما بن گوشت یخ زده دادن...        -1\n",
       "...                                                 ...       ...\n",
       "8330  این ضایعه را به ملت بزرگ ایران به ویژه خانواده...        -1\n",
       "8331                                    شبیه افغانی هاس         0\n",
       "8332  باسلام تکلیف کشتی که بانفتکش ما تصادف کرد چی ش...         0\n",
       "8333                               گالری اینترنتی فرشاد         0\n",
       "8334  من میخواهم از اول مارکت انصراف بدهم، کد انصراف...        -1\n",
       "\n",
       "[8204 rows x 2 columns]"
      ]
     },
     "execution_count": 17,
     "metadata": {},
     "output_type": "execute_result"
    }
   ],
   "source": [
    "Data_final[Data_final['comment'].str.strip().astype(bool)]"
   ]
  },
  {
   "cell_type": "code",
   "execution_count": 18,
   "id": "ad1dd8b3",
   "metadata": {},
   "outputs": [],
   "source": [
    "Data_final.to_csv('pre-proc-data.csv')"
   ]
  },
  {
   "cell_type": "code",
   "execution_count": null,
   "id": "537f31e8",
   "metadata": {},
   "outputs": [],
   "source": []
  }
 ],
 "metadata": {
  "kernelspec": {
   "display_name": "Python 3 (ipykernel)",
   "language": "python",
   "name": "python3"
  },
  "language_info": {
   "codemirror_mode": {
    "name": "ipython",
    "version": 3
   },
   "file_extension": ".py",
   "mimetype": "text/x-python",
   "name": "python",
   "nbconvert_exporter": "python",
   "pygments_lexer": "ipython3",
   "version": "3.9.2"
  }
 },
 "nbformat": 4,
 "nbformat_minor": 5
}
